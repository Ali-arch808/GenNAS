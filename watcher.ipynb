{
 "cells": [
  {
   "cell_type": "code",
   "execution_count": 1,
   "id": "willing-vacuum",
   "metadata": {},
   "outputs": [],
   "source": [
    "from model_wrapper import NB101Wrapper,NB201Wrapper,NBNLPWrapper,DARTSWrapper,ResNetSeriesWrapper"
   ]
  },
  {
   "cell_type": "code",
   "execution_count": 2,
   "id": "lined-stockholm",
   "metadata": {},
   "outputs": [],
   "source": [
    "import json"
   ]
  },
  {
   "cell_type": "code",
   "execution_count": 3,
   "id": "armed-membrane",
   "metadata": {},
   "outputs": [],
   "source": [
    "import torch"
   ]
  },
  {
   "cell_type": "code",
   "execution_count": 4,
   "id": "behavioral-algorithm",
   "metadata": {},
   "outputs": [],
   "source": [
    "import time"
   ]
  },
  {
   "cell_type": "code",
   "execution_count": 5,
   "id": "gorgeous-immunology",
   "metadata": {},
   "outputs": [],
   "source": [
    "from fbnas import NDS\n",
    "from pycls.models.nas.genotypes import GENOTYPES, Genotype\n",
    "import os"
   ]
  },
  {
   "cell_type": "code",
   "execution_count": 6,
   "id": "swiss-factor",
   "metadata": {},
   "outputs": [],
   "source": [
    "from builder_model import ModelBuilder"
   ]
  },
  {
   "cell_type": "code",
   "execution_count": 7,
   "id": "arranged-constraint",
   "metadata": {},
   "outputs": [],
   "source": [
    "search_space = NDS('DARTS','../../GenNAS/data/nds_data/')"
   ]
  },
  {
   "cell_type": "code",
   "execution_count": 8,
   "id": "cross-battle",
   "metadata": {},
   "outputs": [],
   "source": [
    "from argparse import Namespace\n",
    "from builder_evaluator import Evaluator\n",
    "from builder_task import CVTask,NLPTask\n",
    "from configs import *"
   ]
  },
  {
   "cell_type": "code",
   "execution_count": 9,
   "id": "cathedral-living",
   "metadata": {},
   "outputs": [],
   "source": [
    "args = {'device':'cuda',\\\n",
    "        'config':{'last_channel_l0':0.25,'last_channel_l1':0.50,'last_channel_l2':0.75,'dimension': 64,'batch_size': 64},\\\n",
    "       'output_size': 8,\n",
    "       'nds_path': '../../GenNAS/data/nds_data/',\n",
    "       'search_space': 'DARTS',\n",
    "       'last_channels': 64,\n",
    "       'init_channels': None,\n",
    "        \n",
    "       }\n",
    "args = Namespace(**args) "
   ]
  },
  {
   "cell_type": "code",
   "execution_count": 10,
   "id": "neutral-alexandria",
   "metadata": {
    "scrolled": true
   },
   "outputs": [
    {
     "name": "stdout",
     "output_type": "stream",
     "text": [
      "Files already downloaded and verified\n",
      "Files already downloaded and verified\n"
     ]
    }
   ],
   "source": [
    "args.total_iters = 100\n",
    "args.eval_interval = 10\n",
    "args.init_w_type = 'none'\n",
    "args.init_b_type = 'none'\n",
    "args.learning_rate = 1e-1\n",
    "args.weight_decay = 4e-5\n",
    "args.momentum = 0.9\n",
    "args.train_weights = [1,1,1]\n",
    "args.eval_weights = [1,1,1]\n",
    "args.mutate_ratio = 1.\n",
    "args.neighbor = 200\n",
    "args.nlp_path = 'data/nasbenchnlp'\n",
    "args.config = CONF_NB101\n",
    "args.dataset = 'cifar10'\n",
    "args.workers = 2\n",
    "args.pad = False\n",
    "args.input_size = 32\n",
    "args.output_size = 8\n",
    "args.length = 8\n",
    "args.batch_size = None\n",
    "cv_task = CVTask(args)"
   ]
  },
  {
   "cell_type": "code",
   "execution_count": 11,
   "id": "metropolitan-marketplace",
   "metadata": {},
   "outputs": [],
   "source": [
    "evaluator = Evaluator(args)"
   ]
  },
  {
   "cell_type": "code",
   "execution_count": 12,
   "id": "reduced-offense",
   "metadata": {
    "scrolled": true
   },
   "outputs": [
    {
     "name": "stdout",
     "output_type": "stream",
     "text": [
      "10.443368196487427\n",
      "7.6586456298828125\n",
      "6.7892725467681885\n",
      "18.838331699371338\n",
      "16.79702615737915\n",
      "8.767149686813354\n",
      "7.266899347305298\n",
      "8.417202711105347\n",
      "4.152502775192261\n",
      "9.759689569473267\n",
      "9.419320344924927\n",
      "7.913186311721802\n",
      "7.964836359024048\n",
      "4.50214147567749\n",
      "2.9317305088043213\n",
      "3.207308053970337\n",
      "1.264204740524292\n",
      "1.1731061935424805\n",
      "3.3249855041503906\n"
     ]
    }
   ],
   "source": [
    "for search_space in ['DARTS','DARTS_in','DARTS_fix-w-d','DARTS_fix-w-d_in',\\\n",
    "                                     'ENAS','ENAS_in','ENAS_fix-w-d',\\\n",
    "                                     'PNAS','PNAS_in','PNAS_fix-w-d',\\\n",
    "                                     'Amoeba','Amoeba_in',\\\n",
    "                                     'NASNet','NASNet_in','ResNet','ResNeXt-A','ResNeXt-A_in','ResNeXt-B','ResNeXt-B_in']:\n",
    "    args.search_space = search_space\n",
    "    model_builder = ModelBuilder(args)\n",
    "    s0 = time.time()\n",
    "    evaluator.evaluate(cv_task, model_builder, 0)\n",
    "    print(time.time() - s0)"
   ]
  },
  {
   "cell_type": "code",
   "execution_count": 13,
   "id": "rough-trinity",
   "metadata": {},
   "outputs": [
    {
     "name": "stdout",
     "output_type": "stream",
     "text": [
      "2.056891441345215\n"
     ]
    }
   ],
   "source": [
    "args.search_space = 'nasbench101'\n",
    "args.init_channels = 16\n",
    "model_builder = ModelBuilder(args)\n",
    "\n",
    "arch = [[[0, 1, 0, 0, 0, 0, 0],\n",
    "  [0, 0, 1, 0, 0, 1, 0],\n",
    "  [0, 0, 0, 1, 1, 1, 0],\n",
    "  [0, 0, 0, 0, 0, 1, 0],\n",
    "  [0, 0, 0, 0, 0, 1, 0],\n",
    "  [0, 0, 0, 0, 0, 0, 1],\n",
    "  [0, 0, 0, 0, 0, 0, 0]],\n",
    " ['input',\n",
    "  'conv1x1-bn-relu',\n",
    "  'conv1x1-bn-relu',\n",
    "  'conv3x3-bn-relu',\n",
    "  'conv1x1-bn-relu',\n",
    "  'maxpool3x3',\n",
    "  'output']]\n",
    "s0 = time.time()\n",
    "evaluator.evaluate(cv_task, model_builder, arch)\n",
    "print(time.time() - s0)"
   ]
  },
  {
   "cell_type": "code",
   "execution_count": 14,
   "id": "elementary-constraint",
   "metadata": {},
   "outputs": [
    {
     "name": "stdout",
     "output_type": "stream",
     "text": [
      "1.5722935199737549\n"
     ]
    }
   ],
   "source": [
    "args.search_space = 'nasbench201'\n",
    "args.init_channels = 16\n",
    "model_builder = ModelBuilder(args)\n",
    "arch = [[0],[0,1],[0,1,2]]\n",
    "s0 = time.time()\n",
    "evaluator.evaluate(cv_task, model_builder, arch)\n",
    "print(time.time() - s0)"
   ]
  },
  {
   "cell_type": "code",
   "execution_count": 26,
   "id": "mature-blade",
   "metadata": {},
   "outputs": [],
   "source": [
    "args.search_space = 'nasbenchnlp'\n",
    "args.last_channels = 16\n",
    "args.config = CONF_NLP\n",
    "nlp_task = NLPTask(args)\n",
    "evaluator = Evaluator(args)\n",
    "all_stats = []\n",
    "for fn in os.listdir('./data/nasbenchnlp/train_logs_single_run/'):\n",
    "    if fn.endswith('.json'):\n",
    "        all_stats.append(json.load(open(os.path.join('./data/nasbenchnlp/train_logs_single_run', fn), 'r')))\n",
    "ok_stats = [x for x in all_stats if x['status'] == 'OK']\n",
    "sampled_stat = []\n",
    "for indx,stat in enumerate(ok_stats):\n",
    "    sampled_stat.append([indx,stat])\n",
    "\n",
    "model_builder = ModelBuilder(args)"
   ]
  },
  {
   "cell_type": "code",
   "execution_count": 28,
   "id": "lonely-cable",
   "metadata": {},
   "outputs": [],
   "source": [
    "explorer = Explorer(model_builder,args)"
   ]
  },
  {
   "cell_type": "code",
   "execution_count": 42,
   "id": "prescribed-logic",
   "metadata": {
    "scrolled": true
   },
   "outputs": [
    {
     "name": "stdout",
     "output_type": "stream",
     "text": [
      "{\"node_0\": {\"op\": \"linear\", \"input\": [\"h_prev_2\", \"h_prev_0\"]}, \"node_1\": {\"op\": \"activation_sigm\", \"input\": [\"node_0\"]}, \"node_2\": {\"op\": \"linear\", \"input\": [\"node_1\", \"h_prev_1\"]}, \"node_3\": {\"op\": \"activation_leaky_relu\", \"input\": [\"node_2\"]}, \"node_4\": {\"op\": \"linear\", \"input\": [\"x\", \"node_3\"]}, \"node_5\": {\"op\": \"activation_leaky_relu\", \"input\": [\"node_4\"]}, \"node_9\": {\"op\": \"linear\", \"input\": [\"h_prev_0\", \"node_3\", \"h_prev_2\"]}, \"h_new_0\": {\"op\": \"blend\", \"input\": [\"h_new_2\", \"node_5\", \"h_new_1\"]}, \"h_new_1\": {\"op\": \"activation_tanh\", \"input\": [\"node_9\"]}, \"h_new_2\": {\"op\": \"linear\", \"input\": [\"h_new_1\", \"node_1\"]}}\n"
     ]
    },
    {
     "data": {
      "text/plain": [
       "'{\"node_0\": {\"op\": \"elementwise_prod\", \"input\": [\"h_prev_1\", \"h_prev_0\"]}, \"node_2\": {\"op\": \"linear\", \"input\": [\"x\", \"h_prev_1\"]}, \"node_3\": {\"op\": \"activation_leaky_relu\", \"input\": [\"node_2\"]}, \"node_4\": {\"op\": \"linear\", \"input\": [\"h_prev_0\", \"node_3\"]}, \"node_6\": {\"op\": \"elementwise_sum\", \"input\": [\"node_4\", \"node_2\"]}, \"node_7\": {\"op\": \"blend\", \"input\": [\"node_4\", \"h_prev_0\", \"node_0\"]}, \"node_8\": {\"op\": \"blend\", \"input\": [\"node_2\", \"node_7\", \"node_6\"]}, \"node_10\": {\"op\": \"linear\", \"input\": [\"h_prev_1\", \"x\"]}, \"h_new_0\": {\"op\": \"blend\", \"input\": [\"node_8\", \"h_new_1\", \"node_3\"]}, \"h_new_1\": {\"op\": \"activation_leaky_relu\", \"input\": [\"node_10\"]}}'"
      ]
     },
     "execution_count": 42,
     "metadata": {},
     "output_type": "execute_result"
    }
   ],
   "source": [
    "spec = explorer.random_spec()\n",
    "print(spec[1]['recepie'])\n",
    "explorer.mutate_spec(spec)[1]['recepie']"
   ]
  },
  {
   "cell_type": "code",
   "execution_count": 16,
   "id": "imported-production",
   "metadata": {
    "scrolled": true
   },
   "outputs": [
    {
     "name": "stdout",
     "output_type": "stream",
     "text": [
      "2.2799882888793945\n"
     ]
    }
   ],
   "source": [
    "s0 = time.time()\n",
    "evaluator.evaluate(nlp_task, model_builder, [0,sampled_stat[0]])\n",
    "print(time.time() - s0)"
   ]
  },
  {
   "cell_type": "code",
   "execution_count": 17,
   "id": "biological-thomson",
   "metadata": {},
   "outputs": [],
   "source": [
    "from builder_explorer import Explorer"
   ]
  },
  {
   "cell_type": "code",
   "execution_count": 18,
   "id": "julian-safety",
   "metadata": {},
   "outputs": [],
   "source": [
    "args.search_space = 'nasbench101'\n",
    "args.config = CONF_NB101\n",
    "model_builder = ModelBuilder(args)"
   ]
  },
  {
   "cell_type": "code",
   "execution_count": 19,
   "id": "chinese-phone",
   "metadata": {},
   "outputs": [],
   "source": [
    "explorer = Explorer(model_builder,args)"
   ]
  },
  {
   "cell_type": "code",
   "execution_count": null,
   "id": "every-finding",
   "metadata": {},
   "outputs": [],
   "source": []
  },
  {
   "cell_type": "code",
   "execution_count": 20,
   "id": "impaired-johns",
   "metadata": {},
   "outputs": [
    {
     "data": {
      "text/plain": [
       "[array([[0, 0, 0, 1, 0, 1, 0],\n",
       "        [0, 0, 0, 0, 0, 1, 0],\n",
       "        [0, 0, 0, 0, 0, 0, 1],\n",
       "        [0, 0, 0, 0, 0, 1, 0],\n",
       "        [0, 0, 0, 0, 0, 0, 0],\n",
       "        [0, 0, 0, 0, 0, 0, 1],\n",
       "        [0, 0, 0, 0, 0, 0, 0]]),\n",
       " ['input',\n",
       "  'conv1x1-bn-relu',\n",
       "  'conv3x3-bn-relu',\n",
       "  'conv1x1-bn-relu',\n",
       "  'conv1x1-bn-relu',\n",
       "  'maxpool3x3',\n",
       "  'output']]"
      ]
     },
     "execution_count": 20,
     "metadata": {},
     "output_type": "execute_result"
    }
   ],
   "source": [
    "spec = explorer.random_spec()\n",
    "explorer.mutate_spec(spec)"
   ]
  },
  {
   "cell_type": "code",
   "execution_count": 44,
   "id": "raised-restaurant",
   "metadata": {},
   "outputs": [],
   "source": [
    "with open('./test.json','w') as t:\n",
    "    json.dump(explorer.mutate_spec(spec)[1],t)"
   ]
  },
  {
   "cell_type": "code",
   "execution_count": null,
   "id": "qualified-tuition",
   "metadata": {},
   "outputs": [],
   "source": []
  },
  {
   "cell_type": "code",
   "execution_count": null,
   "id": "prime-ethiopia",
   "metadata": {},
   "outputs": [],
   "source": []
  }
 ],
 "metadata": {
  "kernelspec": {
   "display_name": "Python 3",
   "language": "python",
   "name": "python3"
  },
  "language_info": {
   "codemirror_mode": {
    "name": "ipython",
    "version": 3
   },
   "file_extension": ".py",
   "mimetype": "text/x-python",
   "name": "python",
   "nbconvert_exporter": "python",
   "pygments_lexer": "ipython3",
   "version": "3.7.6"
  }
 },
 "nbformat": 4,
 "nbformat_minor": 5
}
